{
 "cells": [
  {
   "cell_type": "markdown",
   "metadata": {
    "_cell_guid": "b1076dfc-b9ad-4769-8c92-a6c4dae69d19",
    "_uuid": "8f2839f25d086af736a60e9eeb907d3b93b6e0e5"
   },
   "source": [
    "### Lors de cette compétition Kaggle il est demandé de réaliser une classification supervisée d'images d'histopathologie des cinq sous-types de cancer ovarien (high-grade serous carcinoma - HGSC, clear-cell ovarian carcinoma - CC, endometrioid - EC, low-grade serous - LGSC, and mucinous carcinoma - MC). \n",
    "### Ces images proviennent de plusieurs établissements. Elles sont de deux types : Whole Slide Image (WSI) ou Tissue MicroArray (TMA). Les WSI sont magnifiéés 20x et les TMA 40x."
   ]
  },
  {
   "cell_type": "markdown",
   "metadata": {},
   "source": [
    "# 1 - Import"
   ]
  },
  {
   "cell_type": "code",
   "execution_count": null,
   "metadata": {
    "execution": {
     "iopub.execute_input": "2024-02-06T08:50:38.613877Z",
     "iopub.status.busy": "2024-02-06T08:50:38.613382Z",
     "iopub.status.idle": "2024-02-06T08:50:52.438192Z",
     "shell.execute_reply": "2024-02-06T08:50:52.436616Z",
     "shell.execute_reply.started": "2024-02-06T08:50:38.613841Z"
    }
   },
   "outputs": [],
   "source": [
    "%pip install plot_keras_history"
   ]
  },
  {
   "cell_type": "code",
   "execution_count": null,
   "metadata": {
    "execution": {
     "iopub.execute_input": "2024-02-06T08:50:52.441999Z",
     "iopub.status.busy": "2024-02-06T08:50:52.441504Z",
     "iopub.status.idle": "2024-02-06T08:50:52.453199Z",
     "shell.execute_reply": "2024-02-06T08:50:52.452009Z",
     "shell.execute_reply.started": "2024-02-06T08:50:52.441948Z"
    }
   },
   "outputs": [],
   "source": [
    "import pandas as pd\n",
    "import numpy as np\n",
    "import os\n",
    "import matplotlib.pyplot as plt\n",
    "import seaborn as sns\n",
    "from tqdm import tqdm\n",
    "from time import time\n",
    "import math\n",
    "\n",
    "from sklearn.model_selection import train_test_split\n",
    "from sklearn.preprocessing import label_binarize, LabelEncoder\n",
    "from sklearn.utils import class_weight, shuffle\n",
    "from sklearn.metrics import confusion_matrix, classification_report, accuracy_score\n",
    "\n",
    "from tensorflow.keras.models import Model, Sequential\n",
    "from keras.preprocessing.image import ImageDataGenerator\n",
    "from keras.applications.vgg16 import VGG16\n",
    "from keras.models import Sequential\n",
    "from keras.layers import Dense, Dropout, GlobalAveragePooling2D\n",
    "from keras.optimizers import Adam\n",
    "from keras.callbacks import ModelCheckpoint, EarlyStopping\n",
    "from keras.utils import to_categorical\n",
    "\n",
    "from plot_keras_history import show_history, plot_history\n",
    "\n",
    "import tensorflow as tf\n",
    "from tensorflow.keras.preprocessing import image\n",
    "from tensorflow.keras.preprocessing.image import load_img, img_to_array\n",
    "from tensorflow.keras.applications.vgg16 import preprocess_input\n",
    "from tensorflow.keras.optimizers import SGD\n",
    "\n",
    "# For normalization\n",
    "import cv2\n",
    "from skimage.exposure import match_histograms\n",
    "\n",
    "os.environ[\"TF_KERAS\"]='1'\n",
    "print(\"Num GPUs Available: \", len(tf.config.list_physical_devices('GPU')))"
   ]
  },
  {
   "cell_type": "markdown",
   "metadata": {},
   "source": [
    "# 2 - Data Collection"
   ]
  },
  {
   "cell_type": "code",
   "execution_count": null,
   "metadata": {
    "execution": {
     "iopub.execute_input": "2024-02-06T08:50:52.455736Z",
     "iopub.status.busy": "2024-02-06T08:50:52.455255Z",
     "iopub.status.idle": "2024-02-06T08:50:52.788336Z",
     "shell.execute_reply": "2024-02-06T08:50:52.787227Z",
     "shell.execute_reply.started": "2024-02-06T08:50:52.455693Z"
    }
   },
   "outputs": [],
   "source": [
    "df = pd.read_csv('/kaggle/input/UBC-OCEAN/train.csv')\n",
    "df['image_path'] = [''.join(['/kaggle/input/UBC-OCEAN/train_thumbnails/', str(x), '_thumbnail.png']) if ''.join([str(x), '_thumbnail.png']) in os.listdir('/kaggle/input/UBC-OCEAN/train_thumbnails') else ''.join(['/kaggle/input/UBC-OCEAN/train_images/', str(x), '.png']) for x in df['image_id']]"
   ]
  },
  {
   "cell_type": "code",
   "execution_count": null,
   "metadata": {
    "execution": {
     "iopub.execute_input": "2024-02-06T08:50:52.791586Z",
     "iopub.status.busy": "2024-02-06T08:50:52.791173Z",
     "iopub.status.idle": "2024-02-06T08:50:52.804593Z",
     "shell.execute_reply": "2024-02-06T08:50:52.803392Z",
     "shell.execute_reply.started": "2024-02-06T08:50:52.791553Z"
    }
   },
   "outputs": [],
   "source": [
    "df.head()"
   ]
  },
  {
   "cell_type": "code",
   "execution_count": null,
   "metadata": {
    "execution": {
     "iopub.execute_input": "2024-02-06T08:50:52.806468Z",
     "iopub.status.busy": "2024-02-06T08:50:52.805999Z",
     "iopub.status.idle": "2024-02-06T08:51:08.880149Z",
     "shell.execute_reply": "2024-02-06T08:51:08.878926Z",
     "shell.execute_reply.started": "2024-02-06T08:50:52.806425Z"
    }
   },
   "outputs": [],
   "source": [
    "%%time\n",
    "# Wall time 18s\n",
    "# Visualisation de quelques images en vrac\n",
    "plt.figure(figsize=(10, 10)) \n",
    "\n",
    "for i, row in df.head(9).iterrows():\n",
    "    ax = plt.subplot(3, 3, i + 1)\n",
    "    plt.imshow(plt.imread(row['image_path']))\n",
    "    plt.title(f\"Label: {row['label']}\")\n",
    "    plt.axis('off')\n",
    "\n",
    "plt.show()"
   ]
  },
  {
   "cell_type": "code",
   "execution_count": null,
   "metadata": {
    "execution": {
     "iopub.execute_input": "2024-02-06T08:51:08.881717Z",
     "iopub.status.busy": "2024-02-06T08:51:08.881390Z",
     "iopub.status.idle": "2024-02-06T08:51:31.814053Z",
     "shell.execute_reply": "2024-02-06T08:51:31.813138Z",
     "shell.execute_reply.started": "2024-02-06T08:51:08.881690Z"
    }
   },
   "outputs": [],
   "source": [
    "%%time\n",
    "# Wall time s\n",
    "# Visualisation de quelques images TMA\n",
    "plt.figure(figsize=(10, 10)) \n",
    "\n",
    "for i, row in df.loc[df['is_tma']==True].reset_index().head(9).iterrows():\n",
    "    ax = plt.subplot(3, 3, i + 1)\n",
    "    plt.imshow(plt.imread(row['image_path']))\n",
    "    plt.title(f\"Label: {row['label']}\")\n",
    "    plt.axis('off')\n",
    "\n",
    "plt.show()"
   ]
  },
  {
   "cell_type": "code",
   "execution_count": null,
   "metadata": {
    "execution": {
     "iopub.execute_input": "2024-02-06T08:51:31.816097Z",
     "iopub.status.busy": "2024-02-06T08:51:31.815523Z",
     "iopub.status.idle": "2024-02-06T08:51:31.836240Z",
     "shell.execute_reply": "2024-02-06T08:51:31.834982Z",
     "shell.execute_reply.started": "2024-02-06T08:51:31.816061Z"
    }
   },
   "outputs": [],
   "source": [
    "# We add a column called \"zoom\" giving the zoom on the raw picture in the database (raw TMA are 40, raw WSI are 20)\n",
    "df['zoom'] = 0\n",
    "# for col raw TMA we put 40\n",
    "df.loc[df['is_tma']==True ,'zoom'] = 40\n",
    "df.loc[(df['is_tma'] == False, 'zoom')] = 20\n",
    "df"
   ]
  },
  {
   "cell_type": "code",
   "execution_count": null,
   "metadata": {
    "execution": {
     "iopub.execute_input": "2024-02-06T08:51:31.839036Z",
     "iopub.status.busy": "2024-02-06T08:51:31.838468Z",
     "iopub.status.idle": "2024-02-06T08:53:38.733725Z",
     "shell.execute_reply": "2024-02-06T08:53:38.732610Z",
     "shell.execute_reply.started": "2024-02-06T08:51:31.838991Z"
    }
   },
   "outputs": [],
   "source": [
    "%%time\n",
    "# Walltime 2min 9s\n",
    "# What is the reduction rate between raw image and thumbed image\n",
    "# Let's mirror the width dimension of thumbed picture with the with dimension on the raw pictures\n",
    "# First we creat a new col named thumb_width\n",
    "df['thumb_width'] = df['image_path'].apply(lambda x : cv2.imread(x).shape[0])\n",
    "df = df[['image_id', 'label', 'image_width', 'thumb_width', 'image_height', 'is_tma',\n",
    "       'image_path', 'zoom']]\n",
    "df"
   ]
  },
  {
   "cell_type": "code",
   "execution_count": null,
   "metadata": {
    "execution": {
     "iopub.execute_input": "2024-02-06T08:53:38.735599Z",
     "iopub.status.busy": "2024-02-06T08:53:38.735154Z",
     "iopub.status.idle": "2024-02-06T08:53:38.755871Z",
     "shell.execute_reply": "2024-02-06T08:53:38.754626Z",
     "shell.execute_reply.started": "2024-02-06T08:53:38.735567Z"
    }
   },
   "outputs": [],
   "source": [
    "# then we multiply the zoom by thumb_width/image_width => this give the zoom value of the thumbnail\n",
    "df['zoom'] = df['zoom']*df['thumb_width']/df['image_width']\n",
    "df"
   ]
  },
  {
   "cell_type": "code",
   "execution_count": null,
   "metadata": {
    "execution": {
     "iopub.execute_input": "2024-02-06T08:53:38.762117Z",
     "iopub.status.busy": "2024-02-06T08:53:38.761610Z",
     "iopub.status.idle": "2024-02-06T08:53:38.777725Z",
     "shell.execute_reply": "2024-02-06T08:53:38.776568Z",
     "shell.execute_reply.started": "2024-02-06T08:53:38.762072Z"
    }
   },
   "outputs": [],
   "source": [
    "df.info()"
   ]
  },
  {
   "cell_type": "markdown",
   "metadata": {},
   "source": [
    "## 3 - Functions"
   ]
  },
  {
   "cell_type": "code",
   "execution_count": null,
   "metadata": {
    "execution": {
     "iopub.execute_input": "2024-02-06T08:53:38.779714Z",
     "iopub.status.busy": "2024-02-06T08:53:38.779384Z",
     "iopub.status.idle": "2024-02-06T08:53:38.786004Z",
     "shell.execute_reply": "2024-02-06T08:53:38.784849Z",
     "shell.execute_reply.started": "2024-02-06T08:53:38.779686Z"
    }
   },
   "outputs": [],
   "source": [
    "# Normalization function (input : image - output : np.array)\n",
    "def normalization_processing_np_np(np_image):\n",
    "    # Appliquer une normalisation de l'image sur le modèle d'une image de référence ref_path\n",
    "    ref_path = r\"/kaggle/input/UBC-OCEAN/train_thumbnails/12522_thumbnail.png\"\n",
    "\n",
    "    # Charger l'image en couleur\n",
    "    ref_img = cv2.imread(ref_path, cv2.IMREAD_COLOR)\n",
    "        \n",
    "    # Resize des images pour avoir la même taille\n",
    "    ref_img = cv2.resize(ref_img, (256, 256), interpolation=cv2.INTER_AREA)\n",
    "    \n",
    "    image = cv2.resize(np_image, (256, 256), interpolation=cv2.INTER_AREA)\n",
    "\n",
    "    # Appliquer la normalisation\n",
    "    aft_img = match_histograms(image, ref_img)\n",
    "\n",
    "    # Convert the image to uint8 and BGR\n",
    "    aft_img = cv2.convertScaleAbs(aft_img, alpha=1.0, beta=0.0)\n",
    "\n",
    "    return aft_img"
   ]
  },
  {
   "cell_type": "code",
   "execution_count": null,
   "metadata": {
    "execution": {
     "iopub.execute_input": "2024-02-06T08:53:38.788013Z",
     "iopub.status.busy": "2024-02-06T08:53:38.787617Z",
     "iopub.status.idle": "2024-02-06T08:53:40.471650Z",
     "shell.execute_reply": "2024-02-06T08:53:40.470481Z",
     "shell.execute_reply.started": "2024-02-06T08:53:38.787983Z"
    }
   },
   "outputs": [],
   "source": [
    "# Exemple\n",
    "image_path = '/kaggle/input/UBC-OCEAN/train_thumbnails/12522_thumbnail.png'\n",
    "fig,ax = plt.subplots(1,2,figsize=(10,10))\n",
    "ax[0].imshow(cv2.resize(plt.imread(image_path), (256, 256), interpolation=cv2.INTER_AREA))\n",
    "ax[1].imshow(normalization_processing_np_np(plt.imread(image_path)))"
   ]
  },
  {
   "cell_type": "code",
   "execution_count": null,
   "metadata": {
    "execution": {
     "iopub.execute_input": "2024-02-06T08:53:40.473357Z",
     "iopub.status.busy": "2024-02-06T08:53:40.472980Z",
     "iopub.status.idle": "2024-02-06T08:53:40.481886Z",
     "shell.execute_reply": "2024-02-06T08:53:40.480736Z",
     "shell.execute_reply.started": "2024-02-06T08:53:40.473326Z"
    }
   },
   "outputs": [],
   "source": [
    "#NEW NEW\n",
    "def tile_generator(image_path, tile_size, zoom):\n",
    "    # Read the image\n",
    "    img = cv2.imread(image_path)\n",
    "\n",
    "    # Review tile_size taking into account the zoom\n",
    "    int_tile_size = int(tile_size * zoom / 40)\n",
    "\n",
    "    # Perform tiling\n",
    "    for i in range(0, img.shape[0], int_tile_size):\n",
    "        for j in range(0, img.shape[1], int_tile_size):\n",
    "            tile = img[i:i+int_tile_size, j:j+int_tile_size]\n",
    "\n",
    "            # Review image size to get tile 256x256\n",
    "            tile = cv2.resize(tile, (tile_size, tile_size))\n",
    "\n",
    "            yield tile\n",
    "\n",
    "def tile_cutter(image_path, tile_dir, tile_size, zoom):\n",
    "    # Create the tile directory if it doesn't exist\n",
    "    os.makedirs(tile_dir, exist_ok=True)\n",
    "\n",
    "    # Save each tile\n",
    "    for i, tile in tqdm(enumerate(tile_generator(image_path, tile_size, zoom))):\n",
    "        img_tile = cv2.convertScaleAbs(tile, cv2.COLOR_BGR2RGB)  # Convert to RGB\n",
    "        name = os.path.basename(image_path).replace('.png','')\n",
    "        plt.imsave(os.path.join(tile_dir, f'{name}_{i}.png'), img_tile)"
   ]
  },
  {
   "cell_type": "code",
   "execution_count": null,
   "metadata": {
    "execution": {
     "iopub.execute_input": "2024-02-06T08:53:40.483878Z",
     "iopub.status.busy": "2024-02-06T08:53:40.483523Z",
     "iopub.status.idle": "2024-02-06T08:53:40.493687Z",
     "shell.execute_reply": "2024-02-06T08:53:40.492850Z",
     "shell.execute_reply.started": "2024-02-06T08:53:40.483849Z"
    }
   },
   "outputs": [],
   "source": [
    "def tile_marker(image_path, color):\n",
    "    # Dictionnaire des couleurs\n",
    "    color_dic = {\n",
    "        'red': [255, 0, 0],\n",
    "        'blue': [0, 0, 255],\n",
    "        'white': [255, 255, 255],\n",
    "        'green': [0, 255, 0],\n",
    "        'yellow': [0, 255, 255],\n",
    "        'black' : [0, 0, 0]\n",
    "                }\n",
    "    \n",
    "    # Lire l'image\n",
    "    img = cv2.imread(image_path)\n",
    "\n",
    "    # Vérifier si l'image a 3 canaux de couleur (couleur) ou 1 canal (niveau de gris)\n",
    "    is_color = len(img.shape) == 3 and img.shape[2] == 3\n",
    "\n",
    "    # Déterminer la couleur en fonction du mode de l'image (couleur ou niveau de gris)\n",
    "    if is_color:\n",
    "        color_value = np.array(color_dic[color][::-1])  # Inverser l'ordre pour passer de RGB à BGR\n",
    "    else:\n",
    "        color_value = np.array([color])\n",
    "\n",
    "    # Ajouter une marge de la couleur spécifiée\n",
    "    img[:20, :] = color_value\n",
    "    img[-20:, :] = color_value\n",
    "    img[:, :20] = color_value\n",
    "    img[:, -20:] = color_value\n",
    "\n",
    "    # Afficher l'image résultante\n",
    "    #plt.imshow(cv2.cvtColor(img, cv2.COLOR_BGR2RGB))\n",
    "    #plt.show()\n",
    "    return cv2.cvtColor(img, cv2.COLOR_BGR2RGB)"
   ]
  },
  {
   "cell_type": "code",
   "execution_count": null,
   "metadata": {
    "execution": {
     "iopub.execute_input": "2024-02-06T08:53:40.495573Z",
     "iopub.status.busy": "2024-02-06T08:53:40.494885Z",
     "iopub.status.idle": "2024-02-06T08:53:42.324246Z",
     "shell.execute_reply": "2024-02-06T08:53:42.323361Z",
     "shell.execute_reply.started": "2024-02-06T08:53:40.495542Z"
    }
   },
   "outputs": [],
   "source": [
    "# Example usage\n",
    "plt.imshow(tile_marker('/kaggle/input/UBC-OCEAN/train_thumbnails/10077_thumbnail.png','red'))"
   ]
  },
  {
   "cell_type": "code",
   "execution_count": null,
   "metadata": {
    "execution": {
     "iopub.execute_input": "2024-02-06T09:52:32.516082Z",
     "iopub.status.busy": "2024-02-06T09:52:32.515047Z",
     "iopub.status.idle": "2024-02-06T09:52:32.526897Z",
     "shell.execute_reply": "2024-02-06T09:52:32.525736Z",
     "shell.execute_reply.started": "2024-02-06T09:52:32.516033Z"
    }
   },
   "outputs": [],
   "source": [
    "# take tiles and assemble them back into a reconstructed picture. Take into account the zoom\n",
    "# as an ouput we have the thumbnail reconstructed\n",
    "# CHANGE LINE 14 AS NEEDED\n",
    "def tile_assembler(tile_dir, output_path, rows, columns, tile_width, zoom):\n",
    "    int_tile_size = int(tile_width * zoom / 40)\n",
    "    tile_width = int_tile_size\n",
    "    img_assembled = np.zeros((rows * tile_width, columns * tile_width, 3), dtype=np.uint8)\n",
    "    c = 1\n",
    "\n",
    "\n",
    "    for i in range(rows):\n",
    "        for j in range(columns):\n",
    "            if c < len(os.listdir(tile_dir)):#108 :\n",
    "                img_filename = f'32035_thumbnail_{c}.png'\n",
    "                img_path = os.path.join(tile_dir, img_filename)\n",
    "\n",
    "                # Read and resize each tile image\n",
    "                tile_img = cv2.imread(img_path)\n",
    "                tile_img = cv2.resize(tile_img, (int_tile_size, int_tile_size))\n",
    "\n",
    "                if tile_img is None or tile_img.size == 0:\n",
    "                    print(f\"Error loading image: {img_path}\")\n",
    "                    continue\n",
    "\n",
    "                tile_img = cv2.resize(tile_img, (tile_width, tile_width))\n",
    "\n",
    "                # Calculate the position to paste each tile in the assembled image\n",
    "                row_start = i * tile_width\n",
    "                col_start = j * tile_width\n",
    "\n",
    "                # Paste the tile into the assembled image\n",
    "                img_assembled[row_start:row_start + tile_width, col_start:col_start + tile_width] = tile_img\n",
    "                c += 1\n",
    "            else:\n",
    "                break\n",
    "\n",
    "    # Save the assembled image\n",
    "    cv2.imwrite(output_path, img_assembled)\n",
    "    #return cv2.imread(output_path)"
   ]
  },
  {
   "cell_type": "markdown",
   "metadata": {},
   "source": [
    "### On va créer une classe supplémentaire pour les tiles qui ne représentent pas un type de cancer\n",
    "### Pour cela on va découper une image en tiles et récupérer les tiles appropriés pour les stocker dans un dossier et les répertorier dans la base"
   ]
  },
  {
   "cell_type": "code",
   "execution_count": null,
   "metadata": {
    "execution": {
     "iopub.execute_input": "2024-02-06T08:53:42.338688Z",
     "iopub.status.busy": "2024-02-06T08:53:42.337864Z",
     "iopub.status.idle": "2024-02-06T08:53:42.365577Z",
     "shell.execute_reply": "2024-02-06T08:53:42.364342Z",
     "shell.execute_reply.started": "2024-02-06T08:53:42.338644Z"
    }
   },
   "outputs": [],
   "source": [
    "# On choisit l'image is_tma false avec le zoom le plus grand\n",
    "df.loc[df['zoom']!=40].sort_values(by='zoom', ascending=False)\n",
    "#c'est l'image_id 63897 zoom = 17.381955"
   ]
  },
  {
   "cell_type": "code",
   "execution_count": null,
   "metadata": {
    "execution": {
     "iopub.execute_input": "2024-02-06T08:53:42.368913Z",
     "iopub.status.busy": "2024-02-06T08:53:42.368125Z",
     "iopub.status.idle": "2024-02-06T08:53:49.292527Z",
     "shell.execute_reply": "2024-02-06T08:53:49.291530Z",
     "shell.execute_reply.started": "2024-02-06T08:53:42.368875Z"
    }
   },
   "outputs": [],
   "source": [
    "img_str = df.loc[df['image_id']==63897,'image_path'].iloc[0]\n",
    "img = plt.imread(img_str)\n",
    "plt.imshow(img)"
   ]
  },
  {
   "cell_type": "code",
   "execution_count": null,
   "metadata": {
    "execution": {
     "iopub.execute_input": "2024-02-06T08:53:49.294694Z",
     "iopub.status.busy": "2024-02-06T08:53:49.294105Z",
     "iopub.status.idle": "2024-02-06T08:55:01.059701Z",
     "shell.execute_reply": "2024-02-06T08:55:01.058644Z",
     "shell.execute_reply.started": "2024-02-06T08:53:49.294658Z"
    }
   },
   "outputs": [],
   "source": [
    "%%time\n",
    "# 1min 11s\n",
    "# On la coupe en tiles\n",
    "tile_cutter(df[df['image_id'] == 63897]['image_path'].iloc[0], '/kaggle/working/classe_sup', 256, 17.381955)"
   ]
  },
  {
   "cell_type": "code",
   "execution_count": null,
   "metadata": {
    "execution": {
     "iopub.execute_input": "2024-02-06T08:55:01.061534Z",
     "iopub.status.busy": "2024-02-06T08:55:01.060955Z",
     "iopub.status.idle": "2024-02-06T08:55:03.214617Z",
     "shell.execute_reply": "2024-02-06T08:55:03.213577Z",
     "shell.execute_reply.started": "2024-02-06T08:55:01.061498Z"
    }
   },
   "outputs": [],
   "source": [
    "# On sélectionne des tiles qu'on va labelliser 'other'\n",
    "plt.figure(figsize=(10, 10)) \n",
    "\n",
    "for i, img in enumerate(np.random.choice(os.listdir(\"/kaggle/working/classe_sup\"),16)):#os.listdir(\"/kaggle/working/classe_sup\")[0:8]:\n",
    "    ax = plt.subplot(4, 4, i + 1)\n",
    "    plt.imshow(plt.imread(\"/kaggle/working/classe_sup/\"+img))\n",
    "    plt.title(f\"Label: {img}\",fontsize=6)\n",
    "    plt.axis('off')\n",
    "\n",
    "plt.show()"
   ]
  },
  {
   "cell_type": "code",
   "execution_count": null,
   "metadata": {
    "execution": {
     "iopub.execute_input": "2024-02-06T08:55:03.216929Z",
     "iopub.status.busy": "2024-02-06T08:55:03.216231Z",
     "iopub.status.idle": "2024-02-06T08:55:35.572274Z",
     "shell.execute_reply": "2024-02-06T08:55:35.571366Z",
     "shell.execute_reply.started": "2024-02-06T08:55:03.216888Z"
    }
   },
   "outputs": [],
   "source": [
    "# Comparaison avec les TMA concernées\n",
    "# len(df.loc[(df['is_tma']==True) & (df['label']=='HGSC'),'image_path'])\n",
    "plt.figure(figsize=(10, 10)) \n",
    "for i, img in enumerate(df.loc[(df['is_tma']==True) & (df['label']=='HGSC'),'image_path']):   \n",
    "    ax = plt.subplot(3, 2, i + 1)\n",
    "    plt.imshow(plt.imread(img))\n",
    "    plt.title(f\"Label: {img}\",fontsize=6)\n",
    "    plt.axis('off')"
   ]
  },
  {
   "cell_type": "code",
   "execution_count": null,
   "metadata": {
    "execution": {
     "iopub.execute_input": "2024-02-06T08:55:35.583001Z",
     "iopub.status.busy": "2024-02-06T08:55:35.582344Z",
     "iopub.status.idle": "2024-02-06T08:55:35.609809Z",
     "shell.execute_reply": "2024-02-06T08:55:35.608554Z",
     "shell.execute_reply.started": "2024-02-06T08:55:35.582968Z"
    }
   },
   "outputs": [],
   "source": [
    "# A ce point on garde une copie du df au cas où\n",
    "df_save = df.copy()\n",
    "df_save"
   ]
  },
  {
   "cell_type": "code",
   "execution_count": null,
   "metadata": {
    "execution": {
     "iopub.execute_input": "2024-02-06T08:55:35.612004Z",
     "iopub.status.busy": "2024-02-06T08:55:35.611578Z",
     "iopub.status.idle": "2024-02-06T08:55:35.655671Z",
     "shell.execute_reply": "2024-02-06T08:55:35.654522Z",
     "shell.execute_reply.started": "2024-02-06T08:55:35.611943Z"
    }
   },
   "outputs": [],
   "source": [
    "# On ajoute des lignes d'images de la nouvelle classe\n",
    "for number in [2325, 367, 948,2214,240,2102,2215,583,1707]:\n",
    "    img_path =  \"/kaggle/working/classe_sup/63897_thumbnail_\"+str(number)+\".png\"\n",
    "    #print(img_path)\n",
    "    df_other = pd.DataFrame({'image_id':0,'label':'other','image_path':img_path, 'is_tma':True, 'zoom':40},index=[f'other_{str(number)}'])\n",
    "\n",
    "    df = pd.concat([df,df_other])\n",
    "df.tail()"
   ]
  },
  {
   "cell_type": "markdown",
   "metadata": {},
   "source": [
    "# 4 - Model preparation"
   ]
  },
  {
   "cell_type": "markdown",
   "metadata": {},
   "source": [
    "### Pour classifier des images j'ai choisi d'utiliser le réseau de neurones VGG16 en mode transfer learning avec Data Augmentation."
   ]
  },
  {
   "cell_type": "code",
   "execution_count": null,
   "metadata": {
    "execution": {
     "iopub.execute_input": "2024-02-06T08:55:35.657746Z",
     "iopub.status.busy": "2024-02-06T08:55:35.657297Z",
     "iopub.status.idle": "2024-02-06T08:55:35.665632Z",
     "shell.execute_reply": "2024-02-06T08:55:35.664470Z",
     "shell.execute_reply.started": "2024-02-06T08:55:35.657701Z"
    }
   },
   "outputs": [],
   "source": [
    "# Step parameter definition\n",
    "epochs_dic = {1:1, 2:15, 3:30}\n",
    "batch_size_dic = {1:16, 2:32, 3:64}\n",
    "optimizer_dic = {1:'Adam', 2:'rmsprop'}\n",
    "normalization_dic = {1:None, 2:'CC', 3:'EC', 4:'HGSC', 5:'LGSC', 6:'MC', 7:'other'}\n",
    "label_dic = {1:['CC', 'EC', 'HGSC', 'LGSC', 'MC', 'other'], 2:['HGSC', 'Others']}\n",
    "preprocessing_input_dic = {1:preprocess_input, 2:normalization_processing_np_np}"
   ]
  },
  {
   "cell_type": "code",
   "execution_count": null,
   "metadata": {
    "execution": {
     "iopub.execute_input": "2024-02-06T08:55:35.667404Z",
     "iopub.status.busy": "2024-02-06T08:55:35.666946Z",
     "iopub.status.idle": "2024-02-06T08:55:35.677591Z",
     "shell.execute_reply": "2024-02-06T08:55:35.676259Z",
     "shell.execute_reply.started": "2024-02-06T08:55:35.667359Z"
    }
   },
   "outputs": [],
   "source": [
    "# Step class management (to be reviewed !)\n",
    "# Number of classes\n",
    "nb_lab = len(df['label'].unique())\n",
    "\n",
    "# Class list\n",
    "le = LabelEncoder()\n",
    "le.fit_transform(df['label'])\n",
    "list_lab = le.classes_"
   ]
  },
  {
   "cell_type": "code",
   "execution_count": null,
   "metadata": {
    "execution": {
     "iopub.execute_input": "2024-02-06T08:55:35.679526Z",
     "iopub.status.busy": "2024-02-06T08:55:35.679013Z",
     "iopub.status.idle": "2024-02-06T08:55:35.689343Z",
     "shell.execute_reply": "2024-02-06T08:55:35.688438Z",
     "shell.execute_reply.started": "2024-02-06T08:55:35.679482Z"
    }
   },
   "outputs": [],
   "source": [
    "# Data augmentation function for train-val\n",
    "def data_flow_fct(data, datagen, data_type=None, batch_size=None) :\n",
    "\n",
    "    data_flow = datagen.flow_from_dataframe(data,\n",
    "                                            #directory=dir_, # Pas besoin\n",
    "                                            x_col='image_path',  # Utilisez 'image_path' comme colonne des chemins d'images\n",
    "                                            y_col='label',#_name',\n",
    "                                            weight_col=None,\n",
    "                                            target_size=(256, 256),\n",
    "                                            classes=None,\n",
    "                                            class_mode='categorical',\n",
    "                                            batch_size=batch_size,\n",
    "                                            shuffle=False,\n",
    "                                            seed=42,\n",
    "                                            subset=data_type)\n",
    "    return data_flow"
   ]
  },
  {
   "cell_type": "code",
   "execution_count": null,
   "metadata": {
    "execution": {
     "iopub.execute_input": "2024-02-06T08:55:35.698620Z",
     "iopub.status.busy": "2024-02-06T08:55:35.698197Z",
     "iopub.status.idle": "2024-02-06T08:55:35.707207Z",
     "shell.execute_reply": "2024-02-06T08:55:35.705677Z",
     "shell.execute_reply.started": "2024-02-06T08:55:35.698587Z"
    }
   },
   "outputs": [],
   "source": [
    "# Data augmentation function\n",
    "def datagen_trainer(preprocessing_input):\n",
    "    datagen_train = ImageDataGenerator(\n",
    "    #    featurewise_center=True,\n",
    "    #    featurewise_std_normalization=True,\n",
    "        rotation_range=20,\n",
    "        width_shift_range=0.2,\n",
    "        height_shift_range=0.2,\n",
    "        horizontal_flip=True,\n",
    "        validation_split=0.25,# détermine le ration training/validation\n",
    "        preprocessing_function=preprocessing_input)\n",
    "    return datagen_train\n",
    "\n",
    "def datagen_tester(preprocessing_input):\n",
    "    datagen_test = ImageDataGenerator(\n",
    "        validation_split=0,\n",
    "        preprocessing_function=preprocess_input)\n",
    "    return datagen_test"
   ]
  },
  {
   "cell_type": "code",
   "execution_count": null,
   "metadata": {
    "execution": {
     "iopub.execute_input": "2024-02-06T08:55:35.710230Z",
     "iopub.status.busy": "2024-02-06T08:55:35.709346Z",
     "iopub.status.idle": "2024-02-06T08:55:35.719774Z",
     "shell.execute_reply": "2024-02-06T08:55:35.718475Z",
     "shell.execute_reply.started": "2024-02-06T08:55:35.710184Z"
    }
   },
   "outputs": [],
   "source": [
    "# Model creation function\n",
    "def create_model_fct(nb_lab) :\n",
    "    #weights_path = \"/kaggle/input/vgg16-weights/vgg16_weights_tf_dim_ordering_tf_kernels_notop.h5\" # ATTENTION : activer hors connexion\n",
    "    weights_path = 'imagenet'\n",
    "    # Charger le modèle VGG16 pré-entraîné\n",
    "    model0 = VGG16(include_top=False, weights=weights_path, input_shape=(256, 256, 3)) \n",
    "    \n",
    "    # Layer non entraînables = on garde les poids du modèle pré-entraîné\n",
    "    for layer in model0.layers:\n",
    "        layer.trainable = False\n",
    "\n",
    "    # Récupérer la sortie de ce réseau\n",
    "    x = model0.output\n",
    "    # Compléter le modèle\n",
    "    x = GlobalAveragePooling2D()(x)\n",
    "    x = Dense(256, activation='relu')(x)\n",
    "    x = Dropout(0.5)(x)\n",
    "    predictions = Dense(nb_lab, activation='softmax')(x)\n",
    "\n",
    "    # Définir le nouveau modèle\n",
    "    model = Model(inputs=model0.input, outputs=predictions)\n",
    "       \n",
    "    # compilation du modèle \n",
    "    model.compile(loss=\"categorical_crossentropy\", optimizer=optimizer_dic[1], metrics=[\"accuracy\"])\n",
    "\n",
    "    print(model.summary())\n",
    "    \n",
    "    return model"
   ]
  },
  {
   "cell_type": "code",
   "execution_count": null,
   "metadata": {
    "execution": {
     "iopub.execute_input": "2024-02-06T08:55:35.721693Z",
     "iopub.status.busy": "2024-02-06T08:55:35.721245Z",
     "iopub.status.idle": "2024-02-06T08:55:35.734526Z",
     "shell.execute_reply": "2024-02-06T08:55:35.733470Z",
     "shell.execute_reply.started": "2024-02-06T08:55:35.721660Z"
    }
   },
   "outputs": [],
   "source": [
    "# Step flow definition\n",
    "def define_flow(preprocessing_flow, batch_size_flow):\n",
    "    # Data augmentation for train-val\n",
    "    train_flow = data_flow_fct(data, datagen_trainer(preprocessing_flow), data_type='training',batch_size=batch_size_flow)\n",
    "    val_flow = data_flow_fct(data, datagen_trainer(preprocessing_flow), data_type='validation',batch_size=batch_size_flow)\n",
    "    test_flow = data_flow_fct(data, datagen_tester(preprocessing_flow), data_type=None, batch_size=1)\n",
    "    return train_flow, val_flow, test_flow"
   ]
  },
  {
   "cell_type": "code",
   "execution_count": null,
   "metadata": {
    "execution": {
     "iopub.execute_input": "2024-02-06T08:55:35.736927Z",
     "iopub.status.busy": "2024-02-06T08:55:35.736076Z",
     "iopub.status.idle": "2024-02-06T08:55:35.746818Z",
     "shell.execute_reply": "2024-02-06T08:55:35.745873Z",
     "shell.execute_reply.started": "2024-02-06T08:55:35.736888Z"
    }
   },
   "outputs": [],
   "source": [
    "# Step model creation and training\n",
    "def model_creation_training(step,train_flow, val_flow,epochs_entry):\n",
    "    # 4min35 for epochs = 1 and batch_size = 32\n",
    "    # Model creation and training\n",
    "    with tf.device('/gpu:1'):\n",
    "\n",
    "        # Model creation\n",
    "        print('1/3-Model creation')\n",
    "        model = create_model_fct(nb_lab)\n",
    "\n",
    "        # Call back creation\n",
    "        print('2/3-Callbacks')\n",
    "        model_save_path = f\"model_best_weights_{step}.h5\"\n",
    "        checkpoint = ModelCheckpoint(model_save_path, monitor='val_accuracy', verbose=1, mode='max', save_best_only=True)\n",
    "        es = EarlyStopping(monitor='val_accuracy', mode='max', verbose=1, patience=10)\n",
    "        callbacks_list = [checkpoint, es]\n",
    "\n",
    "        # Training\n",
    "        print('3/3-Training')\n",
    "        history = model.fit(train_flow, epochs=epochs_entry, \n",
    "                            steps_per_epoch=len(train_flow),\n",
    "                            callbacks=callbacks_list, \n",
    "                            validation_data=val_flow,\n",
    "                            validation_steps=len(val_flow),\n",
    "                            verbose=1)\n",
    "    return model, history"
   ]
  },
  {
   "cell_type": "code",
   "execution_count": null,
   "metadata": {
    "execution": {
     "iopub.execute_input": "2024-02-06T08:55:35.748138Z",
     "iopub.status.busy": "2024-02-06T08:55:35.747817Z",
     "iopub.status.idle": "2024-02-06T08:55:35.763082Z",
     "shell.execute_reply": "2024-02-06T08:55:35.762213Z",
     "shell.execute_reply.started": "2024-02-06T08:55:35.748110Z"
    }
   },
   "outputs": [],
   "source": [
    "# Step performance train_val\n",
    "def performance_train_val(step,history, model, val_flow, batch_size_entry):\n",
    "    # Performances\n",
    "    print('1/6-val accuracy/epochs')\n",
    "    show_history(history)\n",
    "    plot_history(history, path=f\"history_{step}.png\")\n",
    "    plt.close()\n",
    "\n",
    "    print('2/6-predicting y_pred')\n",
    "    #1min 28 for batch_size = 32\n",
    "    y_pred = model.predict(val_flow, steps=len(val_flow), batch_size=batch_size_entry)\n",
    "\n",
    "    print('3/6-getting y_val')\n",
    "    nombre_total_val = len(val_flow) * batch_size_entry\n",
    "\n",
    "    # Initialisation d'un tableau pour stocker les étiquettes réelles\n",
    "    y_val = np.zeros((nombre_total_val, nb_lab))  \n",
    "\n",
    "    # Itérer sur le générateur pour extraire les étiquettes réelles\n",
    "    for i in range(len(val_flow)):\n",
    "        _, batch_y_val = val_flow[i]  # Supposons que le générateur génère des paires (X_val, y_val)\n",
    "        start_index = i * batch_size_dic[2]\n",
    "        end_index = start_index + len(batch_y_val)\n",
    "        y_val[start_index:end_index] = batch_y_val\n",
    "\n",
    "    print('4/6-building the basic confusion matrix')\n",
    "    # Obtenez les indices des classes prédites et réelles pour les échantillons disponibles\n",
    "    y_val_indices = y_val.argmax(axis=1)[0:len(y_pred)]\n",
    "    y_pred_indices = y_pred.argmax(axis=1)\n",
    "\n",
    "    # Générer la matrice de confusion\n",
    "    cm = confusion_matrix(y_val_indices, y_pred_indices)\n",
    "\n",
    "    # Afficher la matrice de confusion\n",
    "    print(cm)\n",
    "\n",
    "    # Afficher le rapport de classification\n",
    "    print(\"\\n5/6-building the classification report\")\n",
    "    print(classification_report(y_val.argmax(axis=1)[0:len(y_pred)], y_pred.argmax(axis=1)))\n",
    "\n",
    "    print('6/6-building the sns confusion matrix')\n",
    "    # Finding the matching categorical labels for the numerical labels\n",
    "    list_num_labels = sorted([x for x in set(y_val_indices)|set(y_pred_indices)])\n",
    "    list_cat_labels = le.inverse_transform(list_num_labels)\n",
    "\n",
    "    # Proceding with sns\n",
    "    df_cm = pd.DataFrame(cm, index=list_cat_labels, columns=list_cat_labels)\n",
    "\n",
    "    plt.figure(figsize=(6, 4))\n",
    "    ax = sns.heatmap(df_cm, annot=True, cmap=\"Blues\")\n",
    "\n",
    "    # Ajouter des étiquettes aux axes\n",
    "    ax.set_xlabel(\"Prediction\")\n",
    "    ax.set_ylabel(\"True\")\n",
    "\n",
    "    plt.show()"
   ]
  },
  {
   "cell_type": "code",
   "execution_count": null,
   "metadata": {
    "execution": {
     "iopub.execute_input": "2024-02-06T08:55:35.764376Z",
     "iopub.status.busy": "2024-02-06T08:55:35.764019Z",
     "iopub.status.idle": "2024-02-06T08:55:35.779683Z",
     "shell.execute_reply": "2024-02-06T08:55:35.778407Z",
     "shell.execute_reply.started": "2024-02-06T08:55:35.764342Z"
    }
   },
   "outputs": [],
   "source": [
    "# Step performance test\n",
    "# Performance\n",
    "def performance_test(step, model, test_flow):\n",
    "    print('getting y_pred')\n",
    "    # Testing on whole dataset\n",
    "    #y_pred = model.predict(images_np)\n",
    "    y_pred = model.predict(test_flow, steps=len(test_flow), batch_size=1)\n",
    "\n",
    "    print('4/6-building the basic confusion matrix')\n",
    "    # get y_val and y_pred\n",
    "    y_pred_indices = y_pred.argmax(axis=1)\n",
    "    y_pred_cat = le.inverse_transform(y_pred_indices)\n",
    "\n",
    "    y_val_cat = data['label'][0:len(y_pred_cat)]\n",
    "\n",
    "    # Générer la matrice de confusion\n",
    "    cm = confusion_matrix(y_val_cat, y_pred_cat)\n",
    "\n",
    "    # Afficher la matrice de confusion\n",
    "    print(cm)\n",
    "\n",
    "    # Afficher le rapport de classification\n",
    "    print(\"\\n5/6-building the classification report\")\n",
    "    print(classification_report(y_val_cat, y_pred_cat))\n",
    "\n",
    "    print('6/6-building the sns confusion matrix')\n",
    "\n",
    "    # Proceding with sns\n",
    "    df_cm = pd.DataFrame(cm, index=label_dic[1], columns=label_dic[1])\n",
    "\n",
    "    plt.figure(figsize=(6, 4))\n",
    "    ax = sns.heatmap(df_cm, annot=True, cmap=\"Blues\")\n",
    "\n",
    "    # Ajouter des étiquettes aux axes\n",
    "    ax.set_xlabel(\"Prediction\")\n",
    "    ax.set_ylabel(\"True\")\n",
    "    \n",
    "    # Sauvegardez l'image dans un fichier\n",
    "    plt.savefig(f'confusion_matrix_{step}.png')\n",
    "\n",
    "    plt.show()\n",
    "    return y_val_cat, y_pred_cat, y_pred"
   ]
  },
  {
   "cell_type": "markdown",
   "metadata": {},
   "source": [
    "# 5 - Etape 1 : Model training"
   ]
  },
  {
   "cell_type": "markdown",
   "metadata": {},
   "source": [
    "### -Model_0 : Entraînement et test du modèle VGG uniquement sur les données is_tma"
   ]
  },
  {
   "cell_type": "code",
   "execution_count": null,
   "metadata": {
    "execution": {
     "iopub.execute_input": "2024-02-06T08:55:35.783247Z",
     "iopub.status.busy": "2024-02-06T08:55:35.782318Z",
     "iopub.status.idle": "2024-02-06T09:02:54.854947Z",
     "shell.execute_reply": "2024-02-06T09:02:54.853710Z",
     "shell.execute_reply.started": "2024-02-06T08:55:35.783189Z"
    }
   },
   "outputs": [],
   "source": [
    "%%time\n",
    "# 2min 30s\n",
    "# Pipeline\n",
    "# Step parameter definition\n",
    "epochs_dic = {1:1, 2:15, 3:30}\n",
    "batch_size_dic = {1:16, 2:32, 3:64}\n",
    "optimizer_dic = {1:'Adam', 2:'rmsprop'}\n",
    "normalization_dic = {1:None, 2:'CC', 3:'EC', 4:'HGSC', 5:'LGSC', 6:'MC', 7:'other'}\n",
    "label_dic = {1:['CC', 'EC', 'HGSC', 'LGSC', 'MC', 'other'], 2:['HGSC', 'Others']}\n",
    "preprocessing_input_dic = {1:preprocess_input, 2:normalization_processing_np_np}\n",
    "step = 'step_0'\n",
    "data = df.loc[df['is_tma']==True]\n",
    "\n",
    "results = pd.DataFrame(columns=['optimizer','method','test_accuracy', 'processing_time'])\n",
    "chrono = time()\n",
    "for i in range(2,3):#rmsprop\n",
    "    for j in range(1,2):#preprocess_input\n",
    "#preprocess_input\n",
    "        epochs_entry = epochs_dic[2]#15\n",
    "        batch_size_entry = batch_size_dic[1]#16\n",
    "        optimizer_entry = optimizer_dic[i]\n",
    "        preprocessing_entry = preprocessing_input_dic[j]\n",
    "\n",
    "        print('Step 1 : class management (to be reviewed !)')\n",
    "        # Step class management (to be reviewed !)\n",
    "        # Number of classes\n",
    "        nb_lab = len(data['label'].unique())\n",
    "\n",
    "        # Class list\n",
    "        le = LabelEncoder()\n",
    "        le.fit_transform(data['label'])\n",
    "        list_lab = le.classes_\n",
    "\n",
    "        print('Step 2 : flow definition')\n",
    "        # Step flow definition\n",
    "        train_flow, val_flow, test_flow = define_flow(preprocessing_entry, batch_size_entry)\n",
    "\n",
    "        print('Step 3 : model creation and training')\n",
    "        # Step model creation and training\n",
    "        model_0, history_0 = model_creation_training(step,train_flow, val_flow, epochs_entry)\n",
    "\n",
    "        print('Step 4 : performance train_val')\n",
    "        # Step performance train_val\n",
    "        performance_train_val(step,history_0, model_0, val_flow, batch_size_entry)\n",
    "\n",
    "        #print('Step 5 : préparation des images')\n",
    "        # Step préparation des images (les images ne sont pas traitées !!)\n",
    "        #images_np = image_prep_fct(data)\n",
    "        #print(images_np.shape)\n",
    "\n",
    "        print('Step 6 : performance test')\n",
    "        # Step performance test\n",
    "        #data=df.loc[df['is_tma']==False,:]\n",
    "        #test_flow = data_flow_fct(df.loc[df['is_tma']==False,:], datagen_tester(preprocessing_entry), data_type=None, batch_size=1)\n",
    "        y_val_cat, y_pred_cat, y_pred = performance_test(step, model_0, test_flow)\n",
    "\n",
    "        print('Step 7 : recording performance')\n",
    "        chrono = time() - chrono\n",
    "        results.loc[len(results)] = [optimizer_entry, preprocessing_entry.__name__, accuracy_score(y_val_cat, y_pred_cat), chrono]\n",
    "        chrono = time()\n",
    "results"
   ]
  },
  {
   "cell_type": "code",
   "execution_count": null,
   "metadata": {
    "execution": {
     "iopub.execute_input": "2024-02-06T09:02:54.857144Z",
     "iopub.status.busy": "2024-02-06T09:02:54.856684Z",
     "iopub.status.idle": "2024-02-06T09:02:55.032974Z",
     "shell.execute_reply": "2024-02-06T09:02:55.031761Z",
     "shell.execute_reply.started": "2024-02-06T09:02:54.857100Z"
    }
   },
   "outputs": [],
   "source": [
    "print(results)\n",
    "plt.imshow(plt.imread('/kaggle/working/confusion_matrix_step_0.png'))\n",
    "plt.axis('off')"
   ]
  },
  {
   "cell_type": "markdown",
   "metadata": {},
   "source": [
    "# 6 - Prediction sur une image"
   ]
  },
  {
   "cell_type": "code",
   "execution_count": null,
   "metadata": {
    "execution": {
     "iopub.execute_input": "2024-02-06T09:02:55.035689Z",
     "iopub.status.busy": "2024-02-06T09:02:55.034880Z",
     "iopub.status.idle": "2024-02-06T09:02:55.056129Z",
     "shell.execute_reply": "2024-02-06T09:02:55.054922Z",
     "shell.execute_reply.started": "2024-02-06T09:02:55.035629Z"
    }
   },
   "outputs": [],
   "source": [
    "# on prend une image au hasard. Par exemple la 32035 qui est labellisée EC\n",
    "df[df['image_id']==32035]"
   ]
  },
  {
   "cell_type": "code",
   "execution_count": null,
   "metadata": {
    "execution": {
     "iopub.execute_input": "2024-02-06T09:02:55.059033Z",
     "iopub.status.busy": "2024-02-06T09:02:55.058487Z",
     "iopub.status.idle": "2024-02-06T09:06:02.551298Z",
     "shell.execute_reply": "2024-02-06T09:06:02.550020Z",
     "shell.execute_reply.started": "2024-02-06T09:02:55.058989Z"
    }
   },
   "outputs": [],
   "source": [
    "%%time\n",
    "# 23s - 3min 7s\n",
    "# on la découpe en tiles nommés 32035_thumbnails_{i}.png stockés dans un répertoire /kaggle/working/32035\n",
    "tile_cutter(image_path='/kaggle/input/UBC-OCEAN/train_thumbnails/32035_thumbnail.png', tile_dir='/kaggle/working/example_32035', tile_size=256, zoom=10)"
   ]
  },
  {
   "cell_type": "code",
   "execution_count": null,
   "metadata": {
    "execution": {
     "iopub.execute_input": "2024-02-06T09:06:02.554026Z",
     "iopub.status.busy": "2024-02-06T09:06:02.553631Z",
     "iopub.status.idle": "2024-02-06T09:06:02.571793Z",
     "shell.execute_reply": "2024-02-06T09:06:02.570515Z",
     "shell.execute_reply.started": "2024-02-06T09:06:02.553993Z"
    }
   },
   "outputs": [],
   "source": [
    "# On va créer un df qui prend le chemin de chaque tile sur la colonne 'image_path'\n",
    "df_32035 = pd.DataFrame()\n",
    "df_32035['image_path'] = os.listdir('/kaggle/working/example_32035')\n",
    "df_32035['image_path'] = list(map(lambda x : '/kaggle/working/example_32035/'+x,df_32035['image_path']))\n",
    "df_32035['label'] = 'a'"
   ]
  },
  {
   "cell_type": "code",
   "execution_count": null,
   "metadata": {
    "execution": {
     "iopub.execute_input": "2024-02-06T09:06:02.573990Z",
     "iopub.status.busy": "2024-02-06T09:06:02.573501Z",
     "iopub.status.idle": "2024-02-06T09:06:02.580945Z",
     "shell.execute_reply": "2024-02-06T09:06:02.579411Z",
     "shell.execute_reply.started": "2024-02-06T09:06:02.573944Z"
    }
   },
   "outputs": [],
   "source": [
    "# On définit le X_test\n",
    "X_test = df_32035"
   ]
  },
  {
   "cell_type": "code",
   "execution_count": null,
   "metadata": {
    "execution": {
     "iopub.execute_input": "2024-02-06T09:06:02.583122Z",
     "iopub.status.busy": "2024-02-06T09:06:02.582767Z",
     "iopub.status.idle": "2024-02-06T09:06:02.653487Z",
     "shell.execute_reply": "2024-02-06T09:06:02.652135Z",
     "shell.execute_reply.started": "2024-02-06T09:06:02.583083Z"
    }
   },
   "outputs": [],
   "source": [
    "%%time\n",
    "# 7ms\n",
    "# Transformer X_test en test_flow\n",
    "test_flow = data_flow_fct(X_test, datagen_tester(preprocessing_entry), data_type=None, batch_size=1)"
   ]
  },
  {
   "cell_type": "code",
   "execution_count": null,
   "metadata": {
    "execution": {
     "iopub.execute_input": "2024-02-06T09:06:02.656024Z",
     "iopub.status.busy": "2024-02-06T09:06:02.655111Z",
     "iopub.status.idle": "2024-02-06T09:36:26.658940Z",
     "shell.execute_reply": "2024-02-06T09:36:26.657734Z",
     "shell.execute_reply.started": "2024-02-06T09:06:02.655976Z"
    }
   },
   "outputs": [],
   "source": [
    "%%time\n",
    "# 18s\n",
    "# On prédit le test_flow => np array à 6 col (nb de labels)\n",
    "y_pred = model_0.predict(test_flow)\n",
    "y_pred[0:10]"
   ]
  },
  {
   "cell_type": "code",
   "execution_count": null,
   "metadata": {
    "execution": {
     "iopub.execute_input": "2024-02-06T09:36:26.660739Z",
     "iopub.status.busy": "2024-02-06T09:36:26.660397Z",
     "iopub.status.idle": "2024-02-06T09:36:26.670600Z",
     "shell.execute_reply": "2024-02-06T09:36:26.669340Z",
     "shell.execute_reply.started": "2024-02-06T09:36:26.660707Z"
    }
   },
   "outputs": [],
   "source": [
    "# On convertit le y_pred en une liste des labels catégoriels\n",
    "y_pred_ = np.argmax(y_pred, axis=1)\n",
    "y_pred_ = le.inverse_transform(y_pred_)\n",
    "y_pred_[0:10]"
   ]
  },
  {
   "cell_type": "code",
   "execution_count": null,
   "metadata": {
    "execution": {
     "iopub.execute_input": "2024-02-06T09:36:26.674223Z",
     "iopub.status.busy": "2024-02-06T09:36:26.673714Z",
     "iopub.status.idle": "2024-02-06T09:36:26.681447Z",
     "shell.execute_reply": "2024-02-06T09:36:26.680336Z",
     "shell.execute_reply.started": "2024-02-06T09:36:26.674176Z"
    }
   },
   "outputs": [],
   "source": [
    "# On ajoute cette liste en colonne aux data d'entrée\n",
    "data = df_32035\n",
    "data.loc[:,'pred'] = y_pred_"
   ]
  },
  {
   "cell_type": "code",
   "execution_count": null,
   "metadata": {
    "execution": {
     "iopub.execute_input": "2024-02-06T09:36:26.683455Z",
     "iopub.status.busy": "2024-02-06T09:36:26.682995Z",
     "iopub.status.idle": "2024-02-06T09:36:57.183561Z",
     "shell.execute_reply": "2024-02-06T09:36:57.182449Z",
     "shell.execute_reply.started": "2024-02-06T09:36:26.683414Z"
    }
   },
   "outputs": [],
   "source": [
    "# Pour visualiser le résultat, d'abord on effectue un marking des tiles\n",
    "for img_path, pred in zip(data['image_path'], data['pred']):\n",
    "    #print(img_path,' ',pred)\n",
    "    if pred == 'CC':\n",
    "        img = tile_marker(img_path, 'red')\n",
    "        cv2.imwrite(img_path, img)\n",
    "    elif pred == 'EC':\n",
    "        img = tile_marker(img_path, 'blue')\n",
    "        cv2.imwrite(img_path, img)\n",
    "    elif pred == 'HGSC':\n",
    "        img = tile_marker(img_path, 'yellow')\n",
    "        cv2.imwrite(img_path, img)\n",
    "    elif pred == 'LGSC':\n",
    "        img = tile_marker(img_path, 'green')\n",
    "        cv2.imwrite(img_path, img)\n",
    "    elif pred == 'MC':\n",
    "        img = tile_marker(img_path, 'white')\n",
    "        cv2.imwrite(img_path, img)\n",
    "    elif pred == 'other':\n",
    "        img = tile_marker(img_path, 'black')\n",
    "        cv2.imwrite(img_path, img)"
   ]
  },
  {
   "cell_type": "code",
   "execution_count": null,
   "metadata": {
    "execution": {
     "iopub.execute_input": "2024-02-06T09:53:10.469835Z",
     "iopub.status.busy": "2024-02-06T09:53:10.469395Z",
     "iopub.status.idle": "2024-02-06T09:53:38.866442Z",
     "shell.execute_reply": "2024-02-06T09:53:38.865216Z",
     "shell.execute_reply.started": "2024-02-06T09:53:10.469801Z"
    }
   },
   "outputs": [],
   "source": [
    "%%time\n",
    "#2s\n",
    "# Puis on assemble les tiles marqués\n",
    "tile_width = 256\n",
    "zoom = 10\n",
    "image_width, image_height, color_channels = (cv2.imread('/kaggle/input/UBC-OCEAN/train_thumbnails/32035_thumbnail.png')).shape\n",
    "rows = math.ceil(image_width / int(tile_width * zoom / 40))\n",
    "columns = math.ceil(image_height / int(tile_width * zoom / 40))\n",
    "tile_dir = '/kaggle/working/example_32035'\n",
    "output_path = '/kaggle/working/example_img_assembled_32035.png'\n",
    "tile_assembler(tile_dir, output_path, rows, columns, tile_width, zoom)"
   ]
  },
  {
   "cell_type": "code",
   "execution_count": null,
   "metadata": {
    "execution": {
     "iopub.execute_input": "2024-02-06T09:59:57.328040Z",
     "iopub.status.busy": "2024-02-06T09:59:57.327596Z",
     "iopub.status.idle": "2024-02-06T10:00:03.703768Z",
     "shell.execute_reply": "2024-02-06T10:00:03.701556Z",
     "shell.execute_reply.started": "2024-02-06T09:59:57.328004Z"
    }
   },
   "outputs": [],
   "source": [
    "plt.figure(figsize=(20, 20))\n",
    "plt.imshow(cv2.imread('/kaggle/working/example_img_assembled_32035.png'))"
   ]
  },
  {
   "cell_type": "code",
   "execution_count": null,
   "metadata": {
    "execution": {
     "iopub.execute_input": "2024-02-06T09:53:43.633749Z",
     "iopub.status.busy": "2024-02-06T09:53:43.633338Z",
     "iopub.status.idle": "2024-02-06T09:53:43.644112Z",
     "shell.execute_reply": "2024-02-06T09:53:43.642834Z",
     "shell.execute_reply.started": "2024-02-06T09:53:43.633712Z"
    }
   },
   "outputs": [],
   "source": [
    "# On comptabilise le nombre de tiles par sous-type de cancer\n",
    "data['pred'].value_counts()"
   ]
  },
  {
   "cell_type": "code",
   "execution_count": null,
   "metadata": {
    "execution": {
     "iopub.execute_input": "2024-02-06T09:53:43.647701Z",
     "iopub.status.busy": "2024-02-06T09:53:43.647189Z",
     "iopub.status.idle": "2024-02-06T09:53:43.657991Z",
     "shell.execute_reply": "2024-02-06T09:53:43.656541Z",
     "shell.execute_reply.started": "2024-02-06T09:53:43.647655Z"
    }
   },
   "outputs": [],
   "source": [
    "# Le label est donné par le DEUXIEME plus gros effectif (si le premier effectif est other)\n",
    "label = data['pred'].value_counts().index[1]\n",
    "label"
   ]
  },
  {
   "cell_type": "code",
   "execution_count": null,
   "metadata": {
    "execution": {
     "iopub.execute_input": "2024-02-06T09:53:43.659931Z",
     "iopub.status.busy": "2024-02-06T09:53:43.659540Z",
     "iopub.status.idle": "2024-02-06T09:53:43.668217Z",
     "shell.execute_reply": "2024-02-06T09:53:43.667360Z",
     "shell.execute_reply.started": "2024-02-06T09:53:43.659900Z"
    }
   },
   "outputs": [],
   "source": [
    "# On ajoute une colonne pred au df de départ\n",
    "df['pred'] = 0\n",
    "# Et on attribue la DEUXIEME valeur majoritaire à l'image dans le df initial\n",
    "df.loc[df['image_id']==32035, 'pred'] = label"
   ]
  },
  {
   "cell_type": "code",
   "execution_count": null,
   "metadata": {
    "execution": {
     "iopub.execute_input": "2024-02-06T09:53:43.669616Z",
     "iopub.status.busy": "2024-02-06T09:53:43.669228Z",
     "iopub.status.idle": "2024-02-06T09:53:43.690478Z",
     "shell.execute_reply": "2024-02-06T09:53:43.689596Z",
     "shell.execute_reply.started": "2024-02-06T09:53:43.669583Z"
    }
   },
   "outputs": [],
   "source": [
    "df.loc[df['image_id'] == 32035]"
   ]
  },
  {
   "cell_type": "markdown",
   "metadata": {},
   "source": [
    "# 7 - Généralisation"
   ]
  },
  {
   "cell_type": "code",
   "execution_count": null,
   "metadata": {
    "execution": {
     "iopub.execute_input": "2024-02-06T08:33:18.124425Z",
     "iopub.status.busy": "2024-02-06T08:33:18.123578Z",
     "iopub.status.idle": "2024-02-06T08:38:35.434212Z",
     "shell.execute_reply": "2024-02-06T08:38:35.432861Z",
     "shell.execute_reply.started": "2024-02-06T08:33:18.124390Z"
    }
   },
   "outputs": [],
   "source": [
    "%%time\n",
    "# 37min 31s\n",
    "# pour tile_size=512, zoom=38\n",
    "# Pour chaque image du df on effectue un tiling. Les tiles sont stockées dans des répertoires au nom de l'image_id'\n",
    "for img_path, zoom, img_id in zip(df['image_path'], df['zoom'], df['image_id']):\n",
    "    tile_dir = '/kaggle/working/'+ str(img_id)\n",
    "    tile_cutter(image_path=img_path, tile_dir=tile_dir, tile_size=512, zoom=20)"
   ]
  },
  {
   "cell_type": "code",
   "execution_count": null,
   "metadata": {
    "execution": {
     "iopub.execute_input": "2024-02-06T08:38:35.436216Z",
     "iopub.status.busy": "2024-02-06T08:38:35.435842Z",
     "iopub.status.idle": "2024-02-06T08:39:23.808630Z",
     "shell.execute_reply": "2024-02-06T08:39:23.807271Z",
     "shell.execute_reply.started": "2024-02-06T08:38:35.436184Z"
    }
   },
   "outputs": [],
   "source": [
    "%%time\n",
    "# Pour chaque sac de tiles on effectue une prediction qu'on stocke dans une colonne 'pred' de df\n",
    "for tile_dir in list(map(lambda x : '/kaggle/working/'+ str(x), df['image_id'])):\n",
    "    print('1 - On va créer un df qui prend le chemin de chaque tile sur la colonne image_path')\n",
    "    df_ = pd.DataFrame()\n",
    "    df_['image_path'] = os.listdir(tile_dir)\n",
    "    df_['image_path'] = list(map(lambda x : tile_dir + '/'+ x, df_['image_path']))\n",
    "    df_['label'] = 'a'\n",
    "    print('2 - Ensuite on va créer le test_flow')\n",
    "    test_flow = data_flow_fct(df_, datagen_tester(preprocessing_entry), data_type=None, batch_size=1)\n",
    "    print('3 - On prédit le test_flow')\n",
    "    y_pred = model_0.predict(test_flow)\n",
    "    print('4 - On convertit le np.array y_pred en un liste des labels catgoriels')\n",
    "    y_pred= le.inverse_transform(np.argmax(y_pred, axis=1))\n",
    "    print('5 - On met ce y_pred dans la colonne label de df_')\n",
    "    df_['label'] = y_pred\n",
    "    print('6 - On enregistre la prédiction majoritaire dans une variable label')\n",
    "    label = df_['label'].value_counts().index[1]\n",
    "    print('7 - On attribue cette label à l\\'image_id dans la colonne pred du df de départ')\n",
    "    df.loc[df['image_id']==os.path.basename(tile_dir), 'pred'] = label"
   ]
  },
  {
   "cell_type": "markdown",
   "metadata": {},
   "source": [
    "# 8 - Performance"
   ]
  },
  {
   "cell_type": "code",
   "execution_count": null,
   "metadata": {
    "execution": {
     "iopub.execute_input": "2024-02-06T08:39:23.811220Z",
     "iopub.status.busy": "2024-02-06T08:39:23.810739Z",
     "iopub.status.idle": "2024-02-06T08:39:24.119800Z",
     "shell.execute_reply": "2024-02-06T08:39:24.118315Z",
     "shell.execute_reply.started": "2024-02-06T08:39:23.811164Z"
    }
   },
   "outputs": [],
   "source": [
    "step = '8_performance'\n",
    "y_val_cat = df['label']\n",
    "y_pred_cat = df['pred']\n",
    "\n",
    "# Générer la matrice de confusion\n",
    "cm = confusion_matrix(y_val_cat, y_pred_cat)\n",
    "\n",
    "# Afficher la matrice de confusion\n",
    "print(cm)\n",
    "\n",
    "# Afficher le rapport de classification\n",
    "print(\"\\n5/6-building the classification report\")\n",
    "print(classification_report(y_val_cat, y_pred_cat))\n",
    "\n",
    "print('6/6-building the sns confusion matrix')\n",
    "\n",
    "# Proceding with sns\n",
    "df_cm = pd.DataFrame(cm, index=label_dic[1], columns=label_dic[1])\n",
    "\n",
    "plt.figure(figsize=(6, 4))\n",
    "ax = sns.heatmap(df_cm, annot=True, cmap=\"Blues\")\n",
    "\n",
    "# Ajouter des étiquettes aux axes\n",
    "ax.set_xlabel(\"Prediction\")\n",
    "ax.set_ylabel(\"True\")\n",
    "\n",
    "# Sauvegardez l'image dans un fichier\n",
    "plt.savefig(f'confusion_matrix_{step}.png')"
   ]
  },
  {
   "cell_type": "code",
   "execution_count": null,
   "metadata": {
    "execution": {
     "iopub.status.busy": "2024-02-06T08:39:24.121186Z",
     "iopub.status.idle": "2024-02-06T08:39:24.121636Z",
     "shell.execute_reply": "2024-02-06T08:39:24.121449Z",
     "shell.execute_reply.started": "2024-02-06T08:39:24.121429Z"
    }
   },
   "outputs": [],
   "source": [
    "plt.show(plt.imread('/kaggle/working/confusion_matrix_8_performance.png'))"
   ]
  }
 ],
 "metadata": {
  "kaggle": {
   "accelerator": "gpu",
   "dataSources": [
    {
     "databundleVersionId": 6924515,
     "sourceId": 45867,
     "sourceType": "competition"
    }
   ],
   "dockerImageVersionId": 30635,
   "isGpuEnabled": true,
   "isInternetEnabled": true,
   "language": "python",
   "sourceType": "notebook"
  },
  "kernelspec": {
   "display_name": "Python 3 (ipykernel)",
   "language": "python",
   "name": "python3"
  },
  "language_info": {
   "codemirror_mode": {
    "name": "ipython",
    "version": 3
   },
   "file_extension": ".py",
   "mimetype": "text/x-python",
   "name": "python",
   "nbconvert_exporter": "python",
   "pygments_lexer": "ipython3",
   "version": "3.9.13"
  }
 },
 "nbformat": 4,
 "nbformat_minor": 4
}
