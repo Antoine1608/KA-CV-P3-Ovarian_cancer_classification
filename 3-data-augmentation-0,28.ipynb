{
 "cells": [
  {
   "cell_type": "markdown",
   "metadata": {},
   "source": [
    "# 1 - Libraries"
   ]
  },
  {
   "cell_type": "code",
   "execution_count": null,
   "metadata": {
    "execution": {
     "iopub.execute_input": "2023-12-21T16:39:33.912668Z",
     "iopub.status.busy": "2023-12-21T16:39:33.912199Z",
     "iopub.status.idle": "2023-12-21T16:39:48.641732Z",
     "shell.execute_reply": "2023-12-21T16:39:48.640057Z",
     "shell.execute_reply.started": "2023-12-21T16:39:33.912635Z"
    }
   },
   "outputs": [],
   "source": [
    "%pip install plot_keras_history"
   ]
  },
  {
   "cell_type": "code",
   "execution_count": null,
   "metadata": {
    "_cell_guid": "b1076dfc-b9ad-4769-8c92-a6c4dae69d19",
    "_uuid": "8f2839f25d086af736a60e9eeb907d3b93b6e0e5",
    "execution": {
     "iopub.execute_input": "2023-12-21T16:39:48.645155Z",
     "iopub.status.busy": "2023-12-21T16:39:48.644722Z",
     "iopub.status.idle": "2023-12-21T16:39:48.657288Z",
     "shell.execute_reply": "2023-12-21T16:39:48.655730Z",
     "shell.execute_reply.started": "2023-12-21T16:39:48.645112Z"
    }
   },
   "outputs": [],
   "source": [
    "import pandas as pd\n",
    "import numpy as np\n",
    "import os\n",
    "import matplotlib.pyplot as plt\n",
    "import seaborn as sns\n",
    "\n",
    "from sklearn.model_selection import train_test_split\n",
    "from sklearn.preprocessing import label_binarize, LabelEncoder\n",
    "from sklearn.utils import class_weight, shuffle\n",
    "from sklearn.metrics import confusion_matrix, classification_report\n",
    "\n",
    "from tensorflow.keras.models import Model, Sequential\n",
    "from keras.preprocessing.image import ImageDataGenerator\n",
    "from keras.applications.vgg16 import VGG16\n",
    "from keras.models import Sequential\n",
    "from keras.layers import Dense, Dropout, GlobalAveragePooling2D\n",
    "from keras.optimizers import Adam\n",
    "from keras.callbacks import ModelCheckpoint, EarlyStopping\n",
    "from keras.utils import to_categorical\n",
    "\n",
    "from plot_keras_history import show_history, plot_history\n",
    "\n",
    "import tensorflow as tf\n",
    "\n",
    "# For image preparation\n",
    "import cv2\n",
    "from skimage.exposure import match_histograms\n",
    "from tensorflow.keras.preprocessing.image import load_img, img_to_array\n",
    "from tensorflow.keras.applications.vgg16 import preprocess_input\n",
    "from PIL import Image\n",
    "\n",
    "# os.environ[\"TF_KERAS\"]='1'\n",
    "#print(\"Num GPUs Available: \", len(tf.config.list_physical_devices('GPU')))"
   ]
  },
  {
   "cell_type": "markdown",
   "metadata": {},
   "source": [
    "# 2 - Data collection"
   ]
  },
  {
   "cell_type": "code",
   "execution_count": null,
   "metadata": {
    "execution": {
     "iopub.execute_input": "2023-12-21T16:39:48.659383Z",
     "iopub.status.busy": "2023-12-21T16:39:48.659043Z",
     "iopub.status.idle": "2023-12-21T16:39:49.032045Z",
     "shell.execute_reply": "2023-12-21T16:39:49.030711Z",
     "shell.execute_reply.started": "2023-12-21T16:39:48.659354Z"
    }
   },
   "outputs": [],
   "source": [
    "# Charger les données\n",
    "data = pd.read_csv('/kaggle/input/UBC-OCEAN/train.csv')\n",
    "data['image_path'] = [''.join(['/kaggle/input/UBC-OCEAN/train_thumbnails/', str(x), '_thumbnail.png']) if ''.join([str(x), '_thumbnail.png']) in os.listdir('/kaggle/input/UBC-OCEAN/train_thumbnails') else ''.join(['/kaggle/input/UBC-OCEAN/train_images/', str(x), '.png']) for x in data['image_id']]"
   ]
  },
  {
   "cell_type": "code",
   "execution_count": null,
   "metadata": {
    "execution": {
     "iopub.execute_input": "2023-12-21T16:39:49.033626Z",
     "iopub.status.busy": "2023-12-21T16:39:49.033262Z",
     "iopub.status.idle": "2023-12-21T16:39:49.041367Z",
     "shell.execute_reply": "2023-12-21T16:39:49.040250Z",
     "shell.execute_reply.started": "2023-12-21T16:39:49.033594Z"
    }
   },
   "outputs": [],
   "source": [
    "# Nombre de classes\n",
    "nb_lab = len(data['label'].unique())\n",
    "\n",
    "# Liste des classes\n",
    "le = LabelEncoder()\n",
    "le.fit_transform(data['label'])\n",
    "list_lab = le.classes_"
   ]
  },
  {
   "cell_type": "code",
   "execution_count": null,
   "metadata": {
    "execution": {
     "iopub.execute_input": "2023-12-21T16:39:49.045782Z",
     "iopub.status.busy": "2023-12-21T16:39:49.044987Z",
     "iopub.status.idle": "2023-12-21T16:39:49.051368Z",
     "shell.execute_reply": "2023-12-21T16:39:49.050021Z",
     "shell.execute_reply.started": "2023-12-21T16:39:49.045714Z"
    }
   },
   "outputs": [],
   "source": [
    "epochs = 15\n",
    "batch_size = 32"
   ]
  },
  {
   "cell_type": "markdown",
   "metadata": {},
   "source": [
    "# 3 - Data augmentation"
   ]
  },
  {
   "cell_type": "code",
   "execution_count": null,
   "metadata": {
    "execution": {
     "iopub.execute_input": "2023-12-21T16:39:49.053486Z",
     "iopub.status.busy": "2023-12-21T16:39:49.053099Z",
     "iopub.status.idle": "2023-12-21T16:39:49.061671Z",
     "shell.execute_reply": "2023-12-21T16:39:49.060677Z",
     "shell.execute_reply.started": "2023-12-21T16:39:49.053456Z"
    }
   },
   "outputs": [],
   "source": [
    "# Fonction d'augmentation des données\n",
    "def data_flow_fct(data, datagen, data_type=None, batch_size=None) :\n",
    "\n",
    "    data_flow = datagen.flow_from_dataframe(data,\n",
    "                                            #directory=dir_, # Pas besoin\n",
    "                                            x_col='image_path',  # Utilisez 'image_path' comme colonne des chemins d'images\n",
    "                                            y_col='label',#_name',\n",
    "                                            weight_col=None,\n",
    "                                            target_size=(224, 224),\n",
    "                                            classes=None,\n",
    "                                            class_mode='categorical',\n",
    "                                            batch_size=batch_size,\n",
    "                                            shuffle=True,\n",
    "                                            seed=42,\n",
    "                                            subset=data_type)\n",
    "    return data_flow"
   ]
  },
  {
   "cell_type": "code",
   "execution_count": null,
   "metadata": {
    "execution": {
     "iopub.execute_input": "2023-12-21T16:39:49.064278Z",
     "iopub.status.busy": "2023-12-21T16:39:49.063220Z",
     "iopub.status.idle": "2023-12-21T16:39:49.077198Z",
     "shell.execute_reply": "2023-12-21T16:39:49.075954Z",
     "shell.execute_reply.started": "2023-12-21T16:39:49.064244Z"
    }
   },
   "outputs": [],
   "source": [
    "# Méthode d'augmentation des données\n",
    "datagen_train = ImageDataGenerator(\n",
    "#    featurewise_center=True,\n",
    "#    featurewise_std_normalization=True,\n",
    "    rotation_range=20,\n",
    "    width_shift_range=0.2,\n",
    "    height_shift_range=0.2,\n",
    "    horizontal_flip=True,\n",
    "    validation_split=0.25,# détermine le ration training/validation\n",
    "    preprocessing_function=preprocess_input)"
   ]
  },
  {
   "cell_type": "markdown",
   "metadata": {},
   "source": [
    "# 4 - Train/Val split on augmentated data"
   ]
  },
  {
   "cell_type": "code",
   "execution_count": null,
   "metadata": {
    "execution": {
     "iopub.execute_input": "2023-12-21T16:39:49.079031Z",
     "iopub.status.busy": "2023-12-21T16:39:49.078672Z",
     "iopub.status.idle": "2023-12-21T16:39:49.595618Z",
     "shell.execute_reply": "2023-12-21T16:39:49.594308Z",
     "shell.execute_reply.started": "2023-12-21T16:39:49.079002Z"
    }
   },
   "outputs": [],
   "source": [
    "# Augmentation des données et split en train et val\n",
    "train_flow = data_flow_fct(data, datagen_train, data_type='training',batch_size=batch_size)#divisor_train)\n",
    "val_flow = data_flow_fct(data, datagen_train, data_type='validation',batch_size=batch_size)#divisor_val)"
   ]
  },
  {
   "cell_type": "code",
   "execution_count": null,
   "metadata": {
    "execution": {
     "iopub.execute_input": "2023-12-21T16:39:49.599157Z",
     "iopub.status.busy": "2023-12-21T16:39:49.597853Z",
     "iopub.status.idle": "2023-12-21T16:39:49.607566Z",
     "shell.execute_reply": "2023-12-21T16:39:49.606271Z",
     "shell.execute_reply.started": "2023-12-21T16:39:49.599096Z"
    }
   },
   "outputs": [],
   "source": [
    "(len(train_flow)+len(val_flow))*batch_size"
   ]
  },
  {
   "cell_type": "markdown",
   "metadata": {},
   "source": [
    "# 5 - Image preparation for VGG16"
   ]
  },
  {
   "cell_type": "code",
   "execution_count": null,
   "metadata": {
    "execution": {
     "iopub.execute_input": "2023-12-21T16:39:49.609826Z",
     "iopub.status.busy": "2023-12-21T16:39:49.609391Z",
     "iopub.status.idle": "2023-12-21T16:39:49.620821Z",
     "shell.execute_reply": "2023-12-21T16:39:49.619951Z",
     "shell.execute_reply.started": "2023-12-21T16:39:49.609793Z"
    }
   },
   "outputs": [],
   "source": [
    "%%time\n",
    "# Fonction de préparation des images au format np.array\n",
    "#3mn36\n",
    "def image_prep_fct(data):\n",
    "    prepared_images = []\n",
    "    prepared_images_np = np.empty((0, 0))\n",
    "    \n",
    "    for path in data['image_path']:\n",
    "        img = cv2.imread(path, cv2.IMREAD_COLOR)\n",
    "        img = cv2.resize(img, (224, 224), interpolation=cv2.INTER_AREA)\n",
    "        \n",
    "        # Check the number of channels in the image\n",
    "        if len(img.shape) == 2:\n",
    "            # If the image has only one channel, replicate it to create a three-channel image\n",
    "            img = np.stack((img, img, img), axis=-1)\n",
    "\n",
    "        # Assuming target_size for img_to_array is (224, 224)\n",
    "        img = img_to_array(img)\n",
    "        img = img.reshape((img.shape[0], img.shape[1], img.shape[2]))\n",
    "        #print(img.shape[0], img.shape[1], img.shape[2])\n",
    "        img = preprocess_input(img)\n",
    "        prepared_images.append(img)\n",
    "        prepared_images_np = np.array(prepared_images)\n",
    "    \n",
    "    return prepared_images_np"
   ]
  },
  {
   "cell_type": "code",
   "execution_count": null,
   "metadata": {
    "execution": {
     "iopub.execute_input": "2023-12-21T16:39:49.622976Z",
     "iopub.status.busy": "2023-12-21T16:39:49.622561Z",
     "iopub.status.idle": "2023-12-21T16:43:37.953262Z",
     "shell.execute_reply": "2023-12-21T16:43:37.952061Z",
     "shell.execute_reply.started": "2023-12-21T16:39:49.622945Z"
    }
   },
   "outputs": [],
   "source": [
    "%%time\n",
    "#4min\n",
    "images_np = image_prep_fct(data)\n",
    "print(images_np.shape)"
   ]
  },
  {
   "cell_type": "markdown",
   "metadata": {},
   "source": [
    "# 6 - Model training"
   ]
  },
  {
   "cell_type": "code",
   "execution_count": null,
   "metadata": {
    "execution": {
     "iopub.execute_input": "2023-12-21T16:43:37.955126Z",
     "iopub.status.busy": "2023-12-21T16:43:37.954753Z",
     "iopub.status.idle": "2023-12-21T16:43:37.961468Z",
     "shell.execute_reply": "2023-12-21T16:43:37.960671Z",
     "shell.execute_reply.started": "2023-12-21T16:43:37.955083Z"
    }
   },
   "outputs": [],
   "source": [
    "# Définition des X et y pour le training et validation et des X_test et y_test pour le test\n",
    "X = images_np\n",
    "le = LabelEncoder()\n",
    "labels_encoded = le.fit_transform(data['label'])\n",
    "y = to_categorical(labels_encoded)"
   ]
  },
  {
   "cell_type": "code",
   "execution_count": null,
   "metadata": {
    "execution": {
     "iopub.execute_input": "2023-12-21T16:43:37.963322Z",
     "iopub.status.busy": "2023-12-21T16:43:37.962949Z",
     "iopub.status.idle": "2023-12-21T16:43:37.975277Z",
     "shell.execute_reply": "2023-12-21T16:43:37.973982Z",
     "shell.execute_reply.started": "2023-12-21T16:43:37.963284Z"
    }
   },
   "outputs": [],
   "source": [
    "# Fonction de création du modèle\n",
    "def create_model_fct() :\n",
    "    #weights_path = \"/kaggle/input/vgg16-weights/vgg16_weights_tf_dim_ordering_tf_kernels_notop.h5\" # ATTENTION : activer hors connexion\n",
    "    weights_path = 'imagenet'\n",
    "    # Charger le modèle VGG16 pré-entraîné\n",
    "    #base_model = VGG16(weights='imagenet', include_top=False, input_shape=(224, 224, 3))\n",
    "    model0 = VGG16(include_top=False, weights=weights_path, input_shape=(224, 224, 3)) # ATTENTION : activer hors connexion\n",
    "    \n",
    "    # Layer non entraînables = on garde les poids du modèle pré-entraîné\n",
    "    for layer in model0.layers:\n",
    "        layer.trainable = False\n",
    "\n",
    "    # Récupérer la sortie de ce réseau\n",
    "    x = model0.output\n",
    "    # Compléter le modèle\n",
    "    x = GlobalAveragePooling2D()(x)\n",
    "    x = Dense(256, activation='relu')(x)\n",
    "    x = Dropout(0.5)(x)\n",
    "    predictions = Dense(nb_lab, activation='softmax')(x)\n",
    "\n",
    "    # Définir le nouveau modèle\n",
    "    model = Model(inputs=model0.input, outputs=predictions)\n",
    "    # compilation du modèle \n",
    "    model.compile(loss=\"categorical_crossentropy\", optimizer='rmsprop', metrics=[\"accuracy\"])\n",
    "\n",
    "    print(model.summary())\n",
    "    \n",
    "    return model"
   ]
  },
  {
   "cell_type": "code",
   "execution_count": null,
   "metadata": {
    "execution": {
     "iopub.execute_input": "2023-12-21T16:43:37.979775Z",
     "iopub.status.busy": "2023-12-21T16:43:37.979368Z",
     "iopub.status.idle": "2023-12-21T16:43:41.765704Z",
     "shell.execute_reply": "2023-12-21T16:43:41.764490Z",
     "shell.execute_reply.started": "2023-12-21T16:43:37.979724Z"
    }
   },
   "outputs": [],
   "source": [
    "%%time\n",
    "# Création du modèle\n",
    "# 408ms\n",
    "with tf.device('/gpu:1'): \n",
    "    model = create_model_fct()\n",
    "\n",
    "# Création du callback\n",
    "model_save_path = \"./model_best_weights.h5\"\n",
    "checkpoint = ModelCheckpoint(model_save_path, monitor='val_acc', verbose=1, save_best_only=True, mode='max')\n",
    "es = EarlyStopping(monitor='val_acc', mode='max', verbose=1, patience=5)\n",
    "callbacks_list = [checkpoint, es]"
   ]
  },
  {
   "cell_type": "code",
   "execution_count": null,
   "metadata": {
    "execution": {
     "iopub.execute_input": "2023-12-21T16:43:41.768036Z",
     "iopub.status.busy": "2023-12-21T16:43:41.767653Z",
     "iopub.status.idle": "2023-12-21T16:49:12.650795Z",
     "shell.execute_reply": "2023-12-21T16:49:12.649221Z",
     "shell.execute_reply.started": "2023-12-21T16:43:41.768003Z"
    }
   },
   "outputs": [],
   "source": [
    "%%time\n",
    "# 4min35 for epochs = 1 and batch_size = 32\n",
    "# Entraîner sur les données d'entraînement\n",
    "with tf.device('/gpu:0'):\n",
    "    history = model.fit(train_flow, epochs=epochs, \n",
    "                        #steps_per_epoch=len(X_train) // batch_size,\n",
    "                        steps_per_epoch=len(train_flow),\n",
    "                        callbacks=callbacks_list, \n",
    "                        validation_data=val_flow,\n",
    "                        #validation_steps=len(X_val) // batch_size,\n",
    "                        validation_steps=len(val_flow),\n",
    "                        verbose=1)"
   ]
  },
  {
   "cell_type": "markdown",
   "metadata": {},
   "source": [
    "# 8 - Performances"
   ]
  },
  {
   "cell_type": "code",
   "execution_count": null,
   "metadata": {
    "execution": {
     "iopub.execute_input": "2023-12-21T16:49:12.653848Z",
     "iopub.status.busy": "2023-12-21T16:49:12.653297Z",
     "iopub.status.idle": "2023-12-21T16:49:14.123129Z",
     "shell.execute_reply": "2023-12-21T16:49:14.121610Z",
     "shell.execute_reply.started": "2023-12-21T16:49:12.653799Z"
    }
   },
   "outputs": [],
   "source": [
    "%%time\n",
    "# Visualisation de l'évolution des performances/epoch\n",
    "show_history(history)\n",
    "plot_history(history, path=\"history.png\")\n",
    "plt.close()"
   ]
  },
  {
   "cell_type": "code",
   "execution_count": null,
   "metadata": {
    "execution": {
     "iopub.execute_input": "2023-12-21T16:49:14.125619Z",
     "iopub.status.busy": "2023-12-21T16:49:14.125149Z",
     "iopub.status.idle": "2023-12-21T16:50:42.889168Z",
     "shell.execute_reply": "2023-12-21T16:50:42.887846Z",
     "shell.execute_reply.started": "2023-12-21T16:49:14.125574Z"
    }
   },
   "outputs": [],
   "source": [
    "%%time\n",
    "# 1min 28 for batch_size = 32\n",
    "#y_pred = model.predict(val_flow, steps=len(X_val) // batch_size, batch_size=batch_size)\n",
    "y_pred = model.predict(val_flow, steps=len(val_flow), batch_size=batch_size)"
   ]
  },
  {
   "cell_type": "code",
   "execution_count": null,
   "metadata": {
    "execution": {
     "iopub.execute_input": "2023-12-21T16:50:42.891365Z",
     "iopub.status.busy": "2023-12-21T16:50:42.890883Z",
     "iopub.status.idle": "2023-12-21T16:52:24.346052Z",
     "shell.execute_reply": "2023-12-21T16:52:24.344832Z",
     "shell.execute_reply.started": "2023-12-21T16:50:42.891326Z"
    }
   },
   "outputs": [],
   "source": [
    "%%time\n",
    "# 1min for batch_size = 32\n",
    "# Nombre total d'échantillons dans le jeu de validation\n",
    "nombre_total_val = len(val_flow) * batch_size\n",
    "\n",
    "# Initialisation d'un tableau pour stocker les étiquettes réelles\n",
    "y_val = np.zeros((nombre_total_val, nb_lab))  \n",
    "\n",
    "# Itérer sur le générateur pour extraire les étiquettes réelles\n",
    "for i in range(len(val_flow)):\n",
    "    _, batch_y_val = val_flow[i]  # Supposons que le générateur génère des paires (X_val, y_val)\n",
    "    start_index = i * batch_size\n",
    "    end_index = start_index + len(batch_y_val)\n",
    "    y_val[start_index:end_index] = batch_y_val\n",
    "\n",
    "# Maintenant, y_val contient les étiquettes réelles correspondantes aux prédictions"
   ]
  },
  {
   "cell_type": "code",
   "execution_count": null,
   "metadata": {
    "execution": {
     "iopub.execute_input": "2023-12-21T16:55:38.440813Z",
     "iopub.status.busy": "2023-12-21T16:55:38.440256Z",
     "iopub.status.idle": "2023-12-21T16:55:39.362484Z",
     "shell.execute_reply": "2023-12-21T16:55:39.361450Z",
     "shell.execute_reply.started": "2023-12-21T16:55:38.440759Z"
    }
   },
   "outputs": [],
   "source": [
    "# Afficher les courbes d'accuracy et de loss\n",
    "#show_history(history)\n",
    "plot_history(history)"
   ]
  },
  {
   "cell_type": "code",
   "execution_count": null,
   "metadata": {
    "execution": {
     "iopub.execute_input": "2023-12-21T16:54:53.791801Z",
     "iopub.status.busy": "2023-12-21T16:54:53.790093Z",
     "iopub.status.idle": "2023-12-21T16:54:53.812821Z",
     "shell.execute_reply": "2023-12-21T16:54:53.811933Z",
     "shell.execute_reply.started": "2023-12-21T16:54:53.791726Z"
    }
   },
   "outputs": [],
   "source": [
    "from sklearn.metrics import multilabel_confusion_matrix, classification_report\n",
    "\n",
    "# Générer la matrice de confusion\n",
    "cm = confusion_matrix(y_val.argmax(axis=1)[0:len(y_pred)], y_pred.argmax(axis=1))\n",
    "\n",
    "# Afficher la matrice de confusion\n",
    "print(\"Matrice de confusion :\")\n",
    "print(cm)\n",
    "\n",
    "# Afficher le rapport de classification\n",
    "print(\"\\nRapport de classification :\")\n",
    "print(classification_report(y_val.argmax(axis=1)[0:len(y_pred)], y_pred.argmax(axis=1)))"
   ]
  },
  {
   "cell_type": "code",
   "execution_count": null,
   "metadata": {
    "execution": {
     "iopub.execute_input": "2023-12-21T16:55:13.053809Z",
     "iopub.status.busy": "2023-12-21T16:55:13.053337Z",
     "iopub.status.idle": "2023-12-21T16:55:13.508267Z",
     "shell.execute_reply": "2023-12-21T16:55:13.507096Z",
     "shell.execute_reply.started": "2023-12-21T16:55:13.053774Z"
    }
   },
   "outputs": [],
   "source": [
    "# Afficher la matrice de confusion\n",
    "plt.figure(figsize=(10, 8))\n",
    "sns.heatmap(cm, annot=True, fmt='d', xticklabels=list_lab, yticklabels=list_lab, cmap=\"Blues\")\n",
    "plt.xlabel('Predicted')\n",
    "plt.ylabel('True')\n",
    "plt.title('Confusion Matrix')\n",
    "plt.show()"
   ]
  }
 ],
 "metadata": {
  "kaggle": {
   "accelerator": "none",
   "dataSources": [
    {
     "databundleVersionId": 6924515,
     "sourceId": 45867,
     "sourceType": "competition"
    }
   ],
   "dockerImageVersionId": 30626,
   "isGpuEnabled": false,
   "isInternetEnabled": true,
   "language": "python",
   "sourceType": "notebook"
  },
  "kernelspec": {
   "display_name": "Python 3 (ipykernel)",
   "language": "python",
   "name": "python3"
  },
  "language_info": {
   "codemirror_mode": {
    "name": "ipython",
    "version": 3
   },
   "file_extension": ".py",
   "mimetype": "text/x-python",
   "name": "python",
   "nbconvert_exporter": "python",
   "pygments_lexer": "ipython3",
   "version": "3.9.13"
  }
 },
 "nbformat": 4,
 "nbformat_minor": 4
}
